{
    "cells": [
        {
            "cell_type": "markdown",
            "metadata": {},
            "source": "# Start"
        },
        {
            "cell_type": "code",
            "execution_count": 1,
            "metadata": {},
            "outputs": [
                {
                    "data": {
                        "text/html": "<div>\n<style scoped>\n    .dataframe tbody tr th:only-of-type {\n        vertical-align: middle;\n    }\n\n    .dataframe tbody tr th {\n        vertical-align: top;\n    }\n\n    .dataframe thead th {\n        text-align: right;\n    }\n</style>\n<table border=\"1\" class=\"dataframe\">\n  <thead>\n    <tr style=\"text-align: right;\">\n      <th></th>\n      <th>STATION</th>\n      <th>STATION_NAME</th>\n      <th>ELEVATION</th>\n      <th>LATITUDE</th>\n      <th>LONGITUDE</th>\n      <th>DATE</th>\n      <th>HPCP</th>\n      <th>Measurement Flag</th>\n      <th>Quality Flag</th>\n    </tr>\n  </thead>\n  <tbody>\n    <tr>\n      <th>0</th>\n      <td>COOP:310301</td>\n      <td>ASHEVILLE NC US</td>\n      <td>682.1</td>\n      <td>35.5954</td>\n      <td>-82.5568</td>\n      <td>20100101 00:00</td>\n      <td>99999</td>\n      <td>]</td>\n      <td></td>\n    </tr>\n    <tr>\n      <th>1</th>\n      <td>COOP:310301</td>\n      <td>ASHEVILLE NC US</td>\n      <td>682.1</td>\n      <td>35.5954</td>\n      <td>-82.5568</td>\n      <td>20100101 01:00</td>\n      <td>0</td>\n      <td>g</td>\n      <td></td>\n    </tr>\n    <tr>\n      <th>2</th>\n      <td>COOP:310301</td>\n      <td>ASHEVILLE NC US</td>\n      <td>682.1</td>\n      <td>35.5954</td>\n      <td>-82.5568</td>\n      <td>20100102 06:00</td>\n      <td>1</td>\n      <td></td>\n      <td></td>\n    </tr>\n  </tbody>\n</table>\n</div>",
                        "text/plain": "       STATION     STATION_NAME  ELEVATION  LATITUDE  LONGITUDE  \\\n0  COOP:310301  ASHEVILLE NC US      682.1   35.5954   -82.5568   \n1  COOP:310301  ASHEVILLE NC US      682.1   35.5954   -82.5568   \n2  COOP:310301  ASHEVILLE NC US      682.1   35.5954   -82.5568   \n\n             DATE   HPCP Measurement Flag Quality Flag  \n0  20100101 00:00  99999                ]               \n1  20100101 01:00      0                g               \n2  20100102 06:00      1                                "
                    },
                    "execution_count": 1,
                    "metadata": {},
                    "output_type": "execute_result"
                }
            ],
            "source": "# The code was removed by Watson Studio for sharing."
        },
        {
            "cell_type": "code",
            "execution_count": null,
            "metadata": {},
            "outputs": [],
            "source": ""
        }
    ],
    "metadata": {
        "kernelspec": {
            "display_name": "Python 3.6",
            "language": "python",
            "name": "python3"
        },
        "language_info": {
            "codemirror_mode": {
                "name": "ipython",
                "version": 3
            },
            "file_extension": ".py",
            "mimetype": "text/x-python",
            "name": "python",
            "nbconvert_exporter": "python",
            "pygments_lexer": "ipython3",
            "version": "3.6.9"
        }
    },
    "nbformat": 4,
    "nbformat_minor": 1
}